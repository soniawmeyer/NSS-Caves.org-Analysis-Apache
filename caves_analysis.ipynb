{
 "cells": [
  {
   "cell_type": "code",
   "execution_count": 219,
   "metadata": {},
   "outputs": [],
   "source": [
    "import pandas as pd\n",
    "import matplotlib.pyplot as plt\n",
    "from datetime import datetime\n",
    "import pytz\n",
    "import numpy as np\n",
    "from collections import Counter\n",
    "\n",
    "#https://mmas.github.io/analyze-apache-access-log-pandas"
   ]
  },
  {
   "cell_type": "code",
   "execution_count": 220,
   "metadata": {},
   "outputs": [
    {
     "data": {
      "text/plain": [
       "(3835335, 8)"
      ]
     },
     "execution_count": 220,
     "metadata": {},
     "output_type": "execute_result"
    }
   ],
   "source": [
    "csv_path_analysis = '/media/joeymeyer/860-evo-ubuntu/Data/caves_org/caves_analysis.csv'\n",
    "df = pd.read_csv(csv_path_analysis)\n",
    "df = df.drop(columns=['Unnamed: 0'])\n",
    "df.shape"
   ]
  },
  {
   "cell_type": "markdown",
   "metadata": {},
   "source": [
    "The cells below define the parse_datetime function and applies it to the date_time column of that dataframe."
   ]
  },
  {
   "cell_type": "code",
   "execution_count": 221,
   "metadata": {},
   "outputs": [],
   "source": [
    "def parse_datetime(x):\n",
    "    '''\n",
    "    Parses datetime with timezone formatted as:\n",
    "        `[day/month/year:hour:minute:second zone]`\n",
    "\n",
    "    Example:\n",
    "        `>>> parse_datetime('13/Nov/2015:11:45:42 +0000')`\n",
    "        `datetime.datetime(2015, 11, 3, 11, 45, 4, tzinfo=<UTC>)`\n",
    "\n",
    "    Due to problems parsing the timezone (`%z`) with `datetime.strptime`, the\n",
    "    timezone will be obtained using the `pytz` library.\n",
    "    '''\n",
    "    dt = datetime.strptime(x.split()[0], '%d/%b/%Y:%H:%M:%S')\n",
    "    dt_tz = int(x[-6:-3])*60+int(x[-3:-1])\n",
    "    return dt.replace(tzinfo=pytz.FixedOffset(dt_tz))"
   ]
  },
  {
   "cell_type": "code",
   "execution_count": 222,
   "metadata": {},
   "outputs": [],
   "source": [
    "df['date_time'] = df['date_time'].apply(parse_datetime)"
   ]
  },
  {
   "cell_type": "code",
   "execution_count": 223,
   "metadata": {},
   "outputs": [
    {
     "data": {
      "text/plain": [
       "80     2744867\n",
       "443    1090468\n",
       "Name: port, dtype: int64"
      ]
     },
     "execution_count": 223,
     "metadata": {},
     "output_type": "execute_result"
    }
   ],
   "source": [
    "df['port'].value_counts()"
   ]
  },
  {
   "cell_type": "markdown",
   "metadata": {},
   "source": [
    "Port 80 is public (http). Port 443 is secure (https)."
   ]
  },
  {
   "cell_type": "code",
   "execution_count": 224,
   "metadata": {},
   "outputs": [
    {
     "name": "stdout",
     "output_type": "stream",
     "text": [
      "Unique IP addresses: 548164\n",
      "Total traffic: 3835335\n",
      "Http requests per user: 7.0\n"
     ]
    }
   ],
   "source": [
    "print(f\"Unique IP addresses: {df['ip_address'].unique().size}\")\n",
    "print(f\"Total traffic: {df.shape[0]}\")\n",
    "print(f\"Http requests per user: {df.shape[0]/df['ip_address'].unique().size:.2}\")"
   ]
  },
  {
   "cell_type": "code",
   "execution_count": 225,
   "metadata": {},
   "outputs": [
    {
     "name": "stdout",
     "output_type": "stream",
     "text": [
      "Start Date: 2019-05-12 06:43:03+00:40\n",
      "End Date: 2020-05-13 21:46:34+00:40\n"
     ]
    }
   ],
   "source": [
    "print(f'''Start Date: {min(df['date_time'])}\n",
    "End Date: {max(df['date_time'])}''')"
   ]
  },
  {
   "cell_type": "code",
   "execution_count": 226,
   "metadata": {},
   "outputs": [
    {
     "data": {
      "text/plain": [
       "-                                                                                              0.313762\n",
       "https://www.google.com/                                                                        0.045779\n",
       "https://caves.org/region/rmr/index.php/contact                                                 0.028038\n",
       "http://caves.org/                                                                              0.022005\n",
       "https://caves.org/nss-business/publications/JCKS/Bulletin/Bulletin.shtml                       0.008343\n",
       "http://www.caves.org/grotto/slgrotto/phpbb2/login.php?redirect=profile.php&mode=editprofile    0.005492\n",
       "https://caves.org/                                                                             0.004564\n",
       "http://caves.org/grotto/slgrotto/phpbb2/login.php?redirect=posting.php&mode=newtopic&f=6       0.003810\n",
       "http://www.caves.org/grotto/slgrotto/phpbb2/index.php                                          0.002448\n",
       "https://caves.org                                                                              0.001970\n",
       "Name: referrer, dtype: float64"
      ]
     },
     "execution_count": 226,
     "metadata": {},
     "output_type": "execute_result"
    }
   ],
   "source": [
    "df['referrer'].value_counts()[:10].divide(df.referrer.count())"
   ]
  },
  {
   "cell_type": "markdown",
   "metadata": {},
   "source": [
    "* 46% of traffic are from google searches \n",
    "* 31% of traffic is from direct visitors\n",
    "* 3% are from Rocky Mountain Region\n",
    "* 2% are from visiting pages from caves.org\n",
    "* 1% is from the JCKS Bulletin"
   ]
  },
  {
   "cell_type": "code",
   "execution_count": 227,
   "metadata": {},
   "outputs": [
    {
     "name": "stdout",
     "output_type": "stream",
     "text": [
      "Of 3835335 human visits to caves.org, 1203268 are direct visits (31.37%)\n",
      "and 2632067 were referred (68.63%).\n"
     ]
    }
   ],
   "source": [
    "ref_null = df[df['referrer'] == \"-\"]\n",
    "ref = df[df['referrer'] != \"-\"]\n",
    "\n",
    "print(f\"\"\"Of {df.shape[0]} human visits to caves.org, {ref_null.shape[0]} are direct visits ({ref_null.shape[0]/df.shape[0]:.2%})\n",
    "and {ref.shape[0]} were referred ({ref.shape[0]/df.shape[0]:.2%}).\"\"\")"
   ]
  },
  {
   "cell_type": "code",
   "execution_count": 228,
   "metadata": {},
   "outputs": [
    {
     "data": {
      "text/plain": [
       "/                                             0.154255\n",
       "/grotto/flittermouse/wp-login.php             0.130565\n",
       "/info/                                        0.118127\n",
       "/section/commelect/DUSI/openmag/src/gfx/      0.050112\n",
       "/pub/journal/PDF/V67/v67n3-Index.pdf          0.037435\n",
       "/grotto/slgrotto/phpbb2/rss.php               0.037308\n",
       "/region/nro/necaver_index3.html               0.027380\n",
       "/pub/journal/PDF/V74/cave-74-02-221.pdf       0.023669\n",
       "/project/                                     0.020310\n",
       "/committee/salons/ballads/Music/              0.015351\n",
       "/info/NSS_Contacts.pdf                        0.007227\n",
       "/committee/salons/ballads/Music/2005/         0.006574\n",
       "/grotto/sligo/index.htm                       0.005895\n",
       "/section/vertical/nh/50/knotrope.html         0.005718\n",
       "/grotto/slgrotto/phpbb2/viewtopic.php         0.005386\n",
       "/WNS/                                         0.003779\n",
       "/section/asha/                                0.003703\n",
       "/section/vertical/nh/50/knotrope-hold.html    0.003647\n",
       "/grotto/sccg/sccg.php                         0.003620\n",
       "/grotto/timpgrotto/caves/                     0.003518\n",
       "Name: resource, dtype: float64"
      ]
     },
     "execution_count": 228,
     "metadata": {},
     "output_type": "execute_result"
    }
   ],
   "source": [
    "#direct\n",
    "ref_null['resource'].value_counts()[:20].divide(ref_null.resource.count())"
   ]
  },
  {
   "cell_type": "markdown",
   "metadata": {},
   "source": [
    "* 15% of traffic are from direct visits to caves.org/\n",
    "* 13% Flittermouse Grotto\n",
    "* 12% caves.org/info\n",
    "* 4% a PDF of JCKS index (lots of notable names)\n",
    "* 4% Salt Lake Grotto\n",
    "* 3% Northeast Regional Organization\n",
    "* 2% JCKS article PDF\n",
    "* 1.5% cave ballads\n",
    "* more see above\n"
   ]
  },
  {
   "cell_type": "code",
   "execution_count": 229,
   "metadata": {},
   "outputs": [
    {
     "data": {
      "text/plain": [
       "/                                                                 0.025728\n",
       "/section/vertical/nh/50/knotrope-hold.html                        0.004356\n",
       "/committee/i-o/grottos/grottos.shtml                              0.004221\n",
       "/committee/i-o/grottos/new_grotto_page-v2.shtml                   0.003874\n",
       "/grotto/sag/                                                      0.002543\n",
       "/info/events.shtml                                                0.002136\n",
       "/info/NSS_Contacts.pdf                                            0.001815\n",
       "/pub/journal/                                                     0.001783\n",
       "/pub/aca/accident_search.shtml                                    0.001695\n",
       "/grotto/sewaneemountaingrotto/cavefest.html                       0.001519\n",
       "/grotto/slgrotto/phpbb2/viewonline.php                            0.001415\n",
       "/nss-business/for_members.shtml                                   0.001413\n",
       "/search.shtml                                                     0.001353\n",
       "/About_the_NSS.shtml                                              0.001264\n",
       "/pub/journal/Journal_of_Cave_and_Karst_Studies_volume_81.shtml    0.001261\n",
       "/support/                                                         0.001182\n",
       "/survey/ics/wp-admin/admin-ajax.php                               0.001168\n",
       "/section/vertical/nh/49/cthsc/cthsc.html                          0.001163\n",
       "/info/nss-orgs.shtml                                              0.001133\n",
       "/brochure/Guide_to_Resp_Caving_2016.pdf                           0.001103\n",
       "Name: resource, dtype: float64"
      ]
     },
     "execution_count": 229,
     "metadata": {},
     "output_type": "execute_result"
    }
   ],
   "source": [
    "#referred\n",
    "ref['resource'].value_counts()[10:30].divide(ref.resource.count())"
   ]
  },
  {
   "cell_type": "markdown",
   "metadata": {},
   "source": [
    "* ~60% of traffic is referred from Salt Lake Grotto (excluded from view)\n",
    "* 2.6% from caves.org/\n",
    "* <1%: vertical section, IO list, Shasta Area Grotto, Events, NSS Contacts PDF, JCKS, ACA, CaveFest, etc (see above)"
   ]
  },
  {
   "cell_type": "code",
   "execution_count": 230,
   "metadata": {},
   "outputs": [
    {
     "data": {
      "text/plain": [
       "/grotto/slgrotto/phpbb2/viewtopic.php    0.196780\n",
       "/grotto/slgrotto/phpbb2/viewforum.php    0.126281\n",
       "/grotto/slgrotto/phpbb2/profile.php      0.121634\n",
       "/grotto/slgrotto/phpbb2/login.php        0.041129\n",
       "/grotto/slgrotto/phpbb2/index.php        0.037481\n",
       "Name: resource, dtype: float64"
      ]
     },
     "execution_count": 230,
     "metadata": {},
     "output_type": "execute_result"
    }
   ],
   "source": [
    "slg_ref = df[df.referrer.str.contains(\"slg\", na=False)]\n",
    "slg_ref['resource'].value_counts()[:5].divide(ref.resource.count())"
   ]
  },
  {
   "cell_type": "markdown",
   "metadata": {},
   "source": [
    "Since Salt Lake Grotto drives a majority of referred traffic, I wanted to see what they were referring to. The traffic is going to other SLG pages and not to caves.org."
   ]
  },
  {
   "cell_type": "code",
   "execution_count": 231,
   "metadata": {},
   "outputs": [
    {
     "data": {
      "text/plain": [
       "/                                                                      0.169149\n",
       "/section/vertical/nh/50/knotrope-hold.html                             0.045067\n",
       "/grotto/sewaneemountaingrotto/cavefest.html                            0.018677\n",
       "/info/events.shtml                                                     0.016974\n",
       "/pub/journal/                                                          0.013380\n",
       "/section/vertical/nh/49/cthsc/cthsc.html                               0.012577\n",
       "/grotto/ccg/docs/checklists/Checklist%20of%20Caving%20Equipment.pdf    0.011574\n",
       "/committee/i-o/grottos/new_grotto_page-v2.shtml                        0.010817\n",
       "/pub/journal/PDF/v71/cave-71-01-100.pdf                                0.009085\n",
       "/safety/safety.shtml                                                   0.008328\n",
       "Name: resource, dtype: float64"
      ]
     },
     "execution_count": 231,
     "metadata": {},
     "output_type": "execute_result"
    }
   ],
   "source": [
    "google = df[df['referrer'] == \"https://www.google.com/\"]\n",
    "google['resource'].value_counts()[:10].divide(google.resource.count())"
   ]
  },
  {
   "cell_type": "markdown",
   "metadata": {},
   "source": [
    "Traffic from Google accounts for 46% of referred traffic. Here is the breakdown of that traffic:\n",
    "* 17% caves.org/\n",
    "* 5% vertical section\n",
    "* 2%: Cave Fest, Events\n",
    "* 1%: see above"
   ]
  },
  {
   "cell_type": "code",
   "execution_count": 232,
   "metadata": {},
   "outputs": [
    {
     "name": "stdout",
     "output_type": "stream",
     "text": [
      "Mozilla/5.0 (Windows NT 10.0; Win64; x64) AppleWebKit/537.36 (KHTML, like Gecko) Chrome/77.0.3865.120 Safari/537.36                                                                       302208\n",
      "Mozilla/5.0 (Windows NT 6.1) AppleWebKit/537.36 (KHTML, like Gecko) Chrome/41.0.2228.0 Safari/537.36Mozilla/5.0 (Windows NT 6.1; WOW64; rv:40.0) Gecko/20100101 Firefox/40.1              246042\n",
      "Mozilla/5.0 (Windows NT 6.1) AppleWebKit/537.36 (KHTML, like Gecko) Chrome/41.0.2228.0 Safari/537.36Mozilla/5.0 (Windows NT 6.3; rv:36.0) Gecko/20100101 Firefox/36.0                     175025\n",
      "Mozilla/5.0 (X11; Ubuntu; Linux x86_64; rv:62.0) Gecko/20100101 Firefox/62.0                                                                                                              140847\n",
      "Mozilla/5.0 (Windows NT 6.1) AppleWebKit/537.36 (KHTML, like Gecko) Chrome/41.0.2228.0 Safari/537.36Mozilla/5.0 (Windows NT 6.1; WOW64; rv:31.0) Gecko/20130401 Firefox/31.0              129027\n",
      "Mozilla/5.0 (Windows NT 6.1) AppleWebKit/537.36 (KHTML, like Gecko) Chrome/41.0.2228.0 Safari/537.36Mozilla/5.0 (Windows NT 5.1; rv:31.0) Gecko/20100101 Firefox/31.0                     124515\n",
      "Mozilla/5.0 (Windows NT 6.1) AppleWebKit/537.36 (KHTML, like Gecko) Chrome/41.0.2228.0 Safari/537.36Mozilla/5.0 (Windows NT 6.1; WOW64; rv:29.0) Gecko/20120101 Firefox/29.0              123563\n",
      "Mozilla/5.0 (Windows NT 6.1) AppleWebKit/537.36 (KHTML, like Gecko) Chrome/41.0.2228.0 Safari/537.36Mozilla/5.0 (X11; Linux i586; rv:31.0) Gecko/20100101 Firefox/31.0                    121470\n",
      "Mozilla/5.0 (Windows NT 6.1) AppleWebKit/537.36 (KHTML, like Gecko) Chrome/41.0.2228.0 Safari/537.36Mozilla/5.0 (Macintosh; Intel Mac OS X 10_10; rv:33.0) Gecko/20100101 Firefox/33.0    110538\n",
      "Mozilla/5.0 (Windows NT 6.3; Win64; x64) AppleWebKit/537.36 (KHTML, like Gecko) Chrome/66.0.3359.181 Safari/537.36                                                                        108361\n",
      "Name: user_agent, dtype: int64\n"
     ]
    }
   ],
   "source": [
    "print(df.user_agent.value_counts()[:10])"
   ]
  },
  {
   "cell_type": "markdown",
   "metadata": {},
   "source": [
    "Top two browsers used are Windows Chrome and Linux Firefox."
   ]
  },
  {
   "cell_type": "markdown",
   "metadata": {},
   "source": [
    "The cells below apply a function to extract the month, day of the week, and hour from the date_time column, then plots the normalized data. There doesn't appear to be any significance to the day of the week or anything unusual about the hours of activity. There is noticeable spike in website visits in July and peaks in August."
   ]
  },
  {
   "cell_type": "code",
   "execution_count": 233,
   "metadata": {},
   "outputs": [
    {
     "data": {
      "text/plain": [
       "month\n",
       "1     0.063897\n",
       "2     0.061226\n",
       "3     0.054179\n",
       "4     0.055274\n",
       "5     0.048313\n",
       "6     0.057391\n",
       "7     0.164014\n",
       "8     0.258371\n",
       "9     0.118137\n",
       "10    0.031767\n",
       "11    0.049059\n",
       "12    0.038373\n",
       "Name: ip_address, dtype: float64"
      ]
     },
     "execution_count": 233,
     "metadata": {},
     "output_type": "execute_result"
    }
   ],
   "source": [
    "df['month'] = df['date_time'].apply(lambda x: x.month)\n",
    "months = df.groupby('month')['ip_address'].agg(len)\n",
    "months = months.divide(months.sum())\n",
    "months"
   ]
  },
  {
   "cell_type": "code",
   "execution_count": 234,
   "metadata": {},
   "outputs": [
    {
     "data": {
      "image/png": "[encoded data removed]",
      "text/plain": [
       "<Figure size 432x288 with 1 Axes>"
      ]
     },
     "metadata": {
      "needs_background": "light"
     },
     "output_type": "display_data"
    }
   ],
   "source": [
    "months.plot(kind='bar')\n",
    "plt.axhline(months.mean(), color='red', linewidth=2)\n",
    "plt.title('Visits By Month')\n",
    "plt.xlabel('Visits (Normalized)')\n",
    "plt.show()"
   ]
  },
  {
   "cell_type": "code",
   "execution_count": 235,
   "metadata": {},
   "outputs": [
    {
     "data": {
      "text/plain": [
       "weekday\n",
       "0    0.133937\n",
       "1    0.136638\n",
       "2    0.152792\n",
       "3    0.132570\n",
       "4    0.155071\n",
       "5    0.151201\n",
       "6    0.137791\n",
       "Name: ip_address, dtype: float64"
      ]
     },
     "execution_count": 235,
     "metadata": {},
     "output_type": "execute_result"
    }
   ],
   "source": [
    "df['weekday'] = df['date_time'].apply(lambda x: x.weekday())\n",
    "weekdays = df.groupby('weekday')['ip_address'].agg(len)\n",
    "weekdays = weekdays.divide(weekdays.sum())\n",
    "weekdays"
   ]
  },
  {
   "cell_type": "code",
   "execution_count": 236,
   "metadata": {},
   "outputs": [
    {
     "data": {
      "image/png": "[encoded data removed]",
      "text/plain": [
       "<Figure size 432x288 with 1 Axes>"
      ]
     },
     "metadata": {
      "needs_background": "light"
     },
     "output_type": "display_data"
    }
   ],
   "source": [
    "weekdays.index = ['mon', 'tue', 'wed', 'thu', 'fri', 'sat', 'sun']\n",
    "weekdays.plot(kind='bar')\n",
    "plt.title('Visits By Day of Week')\n",
    "plt.xlabel('Visits (Normalized)')\n",
    "plt.show()"
   ]
  },
  {
   "cell_type": "code",
   "execution_count": 237,
   "metadata": {},
   "outputs": [
    {
     "data": {
      "text/plain": [
       "hour\n",
       "0     0.042039\n",
       "1     0.036544\n",
       "2     0.034531\n",
       "3     0.035564\n",
       "4     0.032935\n",
       "5     0.031765\n",
       "6     0.033163\n",
       "7     0.036273\n",
       "8     0.039007\n",
       "9     0.043783\n",
       "10    0.045324\n",
       "11    0.043777\n",
       "12    0.044005\n",
       "13    0.044917\n",
       "14    0.045822\n",
       "15    0.045058\n",
       "16    0.045205\n",
       "17    0.045026\n",
       "18    0.046514\n",
       "19    0.046336\n",
       "20    0.045672\n",
       "21    0.047644\n",
       "22    0.045692\n",
       "23    0.043404\n",
       "Name: ip_address, dtype: float64"
      ]
     },
     "execution_count": 237,
     "metadata": {},
     "output_type": "execute_result"
    }
   ],
   "source": [
    "df['hour'] = df['date_time'].apply(lambda x: x.hour)\n",
    "hours = df.groupby('hour')['ip_address'].agg(len)\n",
    "hours = hours.divide(hours.sum())\n",
    "hours"
   ]
  },
  {
   "cell_type": "code",
   "execution_count": 238,
   "metadata": {},
   "outputs": [
    {
     "data": {
      "image/png": "[encoded data removed]",
      "text/plain": [
       "<Figure size 432x288 with 1 Axes>"
      ]
     },
     "metadata": {
      "needs_background": "light"
     },
     "output_type": "display_data"
    }
   ],
   "source": [
    "hours.plot(kind='bar')\n",
    "plt.title('Visits By Hour of Day')\n",
    "plt.xlabel('Visits (Normalized)')\n",
    "plt.show()"
   ]
  },
  {
   "cell_type": "markdown",
   "metadata": {},
   "source": [
    "The cells below define several subsets of the main dataframe--mainly looking at the months of July, August, and September (those are the 3 months with significantly higher traffic) divided by referred and direct traffic. It creates a series of dictionary based on the top 20 websites by normalized visit value.\n",
    "\n",
    "Since Salt Lake City grotto makes up the majority of referred traffic, we're looking at the resources for direct traffic, by counting the resource urls to determine frequency. A subset of the list is selected if a resource url appears in the top 20 for all four categories: all, July, August, and September.\n",
    "\n",
    "Another array of dictionaries is created for each category for the targeted list of resources urls as keys and normalized visit as values."
   ]
  },
  {
   "cell_type": "code",
   "execution_count": 239,
   "metadata": {},
   "outputs": [],
   "source": [
    "july = df.query('month == 7')\n",
    "july_direct = july[july['referrer'] == \"-\"]\n",
    "jul_ref = july[july['referrer'] != \"-\"]\n",
    "august = df.query('month == 8')\n",
    "aug_ref = august[august['referrer'] != \"-\"]\n",
    "aug_direct = august[august['referrer'] == \"-\"]\n",
    "september = df.query('month == 8')\n",
    "sep_ref = september[september['referrer'] != \"-\"]\n",
    "sep_direct = september[september['referrer'] == \"-\"]\n",
    "\n",
    "all_dir_dic = dict(ref_null['resource'].value_counts()[:20].divide(ref_null.resource.count()))\n",
    "jul_dir_dic = dict(july_direct['resource'].value_counts()[:20].divide(july_direct.resource.count()))\n",
    "aug_dir_dic = dict(aug_direct['resource'].value_counts()[:20].divide(aug_direct.resource.count()))\n",
    "sep_dir_dic = dict(sep_direct['resource'].value_counts()[:20].divide(sep_direct.resource.count()))\n",
    "dir_dicts = [all_dir_dic, jul_dir_dic, aug_dir_dic, sep_dir_dic]\n",
    "\n",
    "all_ref_dic = dict(ref['resource'].value_counts()[:20].divide(ref.resource.count()))\n",
    "jul_ref_dic = dict(july_ref['resource'].value_counts()[:20].divide(july_ref.resource.count()))\n",
    "aug_ref_dic = dict(aug_ref['resource'].value_counts()[:20].divide(aug_ref.resource.count()))\n",
    "sep_ref_dic = dict(sep_ref['resource'].value_counts()[:20].divide(sep_ref.resource.count()))\n",
    "ref_dicts = [all_ref_dic, jul_ref_dic, aug_ref_dic, sep_ref_dic]"
   ]
  },
  {
   "cell_type": "code",
   "execution_count": 240,
   "metadata": {},
   "outputs": [],
   "source": [
    "urls = []\n",
    "for dic in dir_dicts:\n",
    "    for url in dic.keys():\n",
    "        urls.append(url)"
   ]
  },
  {
   "cell_type": "code",
   "execution_count": 241,
   "metadata": {},
   "outputs": [
    {
     "data": {
      "text/plain": [
       "Counter({'/': 4,\n",
       "         '/grotto/flittermouse/wp-login.php': 4,\n",
       "         '/info/': 4,\n",
       "         '/section/commelect/DUSI/openmag/src/gfx/': 1,\n",
       "         '/pub/journal/PDF/V67/v67n3-Index.pdf': 2,\n",
       "         '/grotto/slgrotto/phpbb2/rss.php': 4,\n",
       "         '/region/nro/necaver_index3.html': 4,\n",
       "         '/pub/journal/PDF/V74/cave-74-02-221.pdf': 4,\n",
       "         '/project/': 1,\n",
       "         '/committee/salons/ballads/Music/': 1,\n",
       "         '/info/NSS_Contacts.pdf': 4,\n",
       "         '/committee/salons/ballads/Music/2005/': 4,\n",
       "         '/grotto/sligo/index.htm': 4,\n",
       "         '/section/vertical/nh/50/knotrope.html': 4,\n",
       "         '/grotto/slgrotto/phpbb2/viewtopic.php': 2,\n",
       "         '/WNS/': 4,\n",
       "         '/section/asha/': 1,\n",
       "         '/section/vertical/nh/50/knotrope-hold.html': 4,\n",
       "         '/grotto/sccg/sccg.php': 3,\n",
       "         '/grotto/timpgrotto/caves/': 1,\n",
       "         '/brochure/brochurelog.txt': 3,\n",
       "         '/pub/journal/': 3,\n",
       "         '/survey/ics/wp-admin/admin-ajax.php': 3,\n",
       "         '/conservancy/gsp/index.shtml': 1,\n",
       "         '/grotto/ccg/': 3,\n",
       "         '/committee/i-o/grottos/grottos.shtml': 1,\n",
       "         '/About_the_NSS.shtml': 2,\n",
       "         '/committee/planning/documents/TroutUnlimitedStrategicPlan.pdf': 2,\n",
       "         '/pub/journal/PDF/V61/v61n2-Authors.pdf': 2})"
      ]
     },
     "execution_count": 241,
     "metadata": {},
     "output_type": "execute_result"
    }
   ],
   "source": [
    "count = Counter(urls)\n",
    "count"
   ]
  },
  {
   "cell_type": "code",
   "execution_count": 242,
   "metadata": {},
   "outputs": [
    {
     "data": {
      "text/plain": [
       "['/',\n",
       " '/grotto/flittermouse/wp-login.php',\n",
       " '/info/',\n",
       " '/grotto/slgrotto/phpbb2/rss.php',\n",
       " '/region/nro/necaver_index3.html',\n",
       " '/pub/journal/PDF/V74/cave-74-02-221.pdf',\n",
       " '/info/NSS_Contacts.pdf',\n",
       " '/committee/salons/ballads/Music/2005/',\n",
       " '/grotto/sligo/index.htm',\n",
       " '/WNS/',\n",
       " '/section/vertical/nh/50/knotrope-hold.html',\n",
       " '/grotto/sccg/sccg.php',\n",
       " '/pub/journal/',\n",
       " '/grotto/ccg/']"
      ]
     },
     "execution_count": 242,
     "metadata": {},
     "output_type": "execute_result"
    }
   ],
   "source": [
    "url_list=[]\n",
    "for url in count:\n",
    "    if count[url] >= 3 and \"ajax\" not in url and \"brochue\" not in url:\n",
    "        url_list.append(url)\n",
    "url_list.remove('/brochure/brochurelog.txt')\n",
    "url_list.remove('/section/vertical/nh/50/knotrope.html')\n",
    "url_list"
   ]
  },
  {
   "cell_type": "code",
   "execution_count": 243,
   "metadata": {},
   "outputs": [],
   "source": [
    "dir_dfs = [ref_null, july_direct, aug_direct, sep_direct]\n",
    "dir_dic_list = []\n",
    "for df_ in dir_dfs:\n",
    "    a_dic = {}\n",
    "    for url in url_list:\n",
    "        a_dic[url] = df_[df_['resource'] == url].shape[0]/df_.shape[0]\n",
    "    dir_dic_list.append(a_dic)"
   ]
  },
  {
   "cell_type": "markdown",
   "metadata": {},
   "source": [
    "Because Salt Late City Grotto made up the majority of referred traffic, we're looking only at the percentage of traffic from them. There is a significant increase in their traffic in July, August, and September, which probably accounts for a portion of the overall increase in traffic in these three months.\n",
    "\n",
    "all-direct: 66%\n",
    "jul: 80%\n",
    "aug: 92%\n",
    "sep: 92%"
   ]
  },
  {
   "cell_type": "code",
   "execution_count": 244,
   "metadata": {},
   "outputs": [
    {
     "name": "stdout",
     "output_type": "stream",
     "text": [
      "all-direct: 66%\n",
      "jul: 80%\n",
      "aug: 92%\n",
      "sep: 92%\n"
     ]
    }
   ],
   "source": [
    "dic_names = [\"all-direct\",\"jul\",\"aug\",\"sep\"]\n",
    "dic_num = 0\n",
    "for dic in ref_dicts:\n",
    "    slg_total = 0\n",
    "    for url in dic.keys():\n",
    "        if \"slg\" in url:\n",
    "            slg_total += dic[url]\n",
    "    print(f\"{dic_names[dic_num]}: {slg_total:.0%}\")\n",
    "    dic_num += 1"
   ]
  },
  {
   "cell_type": "code",
   "execution_count": 245,
   "metadata": {},
   "outputs": [
    {
     "name": "stdout",
     "output_type": "stream",
     "text": [
      "caves.org: 'caves.org/'\n",
      "flittermouse: 'caves.org/grotto/flittermouse/wp-login.php'\n",
      "info: 'caves.org/info/'\n",
      "slg: 'caves.org/grotto/slgrotto/phpbb2/rss.php'\n",
      "nro: 'caves.org/region/nro/necaver_index3.html'\n",
      "jcks pdf: 'caves.org/pub/journal/PDF/V74/cave-74-02-221.pdf'\n",
      "nss contacts: 'caves.org/info/NSS_Contacts.pdf'\n",
      "ballads: 'caves.org/committee/salons/ballads/Music/2005/'\n",
      "slg: 'caves.org/grotto/sligo/index.htm'\n",
      "wns: 'caves.org/WNS/'\n",
      "vs-rope strength: 'caves.org/section/vertical/nh/50/knotrope-hold.html'\n",
      "sccg: 'caves.org/grotto/sccg/sccg.php'\n",
      "jcks: 'caves.org/pub/journal/'\n",
      "ccg: 'caves.org/grotto/ccg/'\n"
     ]
    },
    {
     "data": {
      "image/png": "[encoded data removed]",
      "text/plain": [
       "<Figure size 1080x432 with 1 Axes>"
      ]
     },
     "metadata": {
      "needs_background": "light"
     },
     "output_type": "display_data"
    }
   ],
   "source": [
    "#bar chart comparison of july to overall\n",
    "\n",
    "for i in range(len(x_labels)):\n",
    "    print(f\"{x_labels[i]}: 'caves.org{list(dir_dic_list[0].keys())[i]}'\")\n",
    "    \n",
    "x = np.arange(0,len(x_labels))\n",
    "x_labels = ['caves.org','flittermouse','info','slg','nro','jcks pdf','nss contacts',\n",
    "            'ballads','slg','wns','vs-rope strength','sccg','jcks','ccg']\n",
    "plt.figure(figsize=(15,6))\n",
    "ax = plt.subplot(111)\n",
    "\n",
    "all_plt = ax.bar(x-0.4, list(dir_dic_list[0].values()), width = 0.2, color = 'b', align = 'center')\n",
    "jul_plt = ax.bar(x-0.2, list(dir_dic_list[1].values()), width = 0.2, color = 'g', align = 'center')\n",
    "aug_plt = ax.bar(x, list(dir_dic_list[2].values()), width = 0.2, color = 'y', align = 'center')\n",
    "sep_plt = ax.bar(x+0.2, list(dir_dic_list[3].values()), width = 0.2, color = 'r', align = 'center')\n",
    "\n",
    "ax.legend((all_plt[0],jul_plt[0],aug_plt[0],sep_plt[0]), ('ALL', 'JUL 20', 'AUG 20','SEP 20') )\n",
    "ax.set_xticks(x)\n",
    "ax.set_xticklabels(x_labels, rotation=45, ha = 'right')\n",
    "\n",
    "plt.title('Top Sites Visits Comparison')\n",
    "plt.xlabel('Most Frequently Sites')\n",
    "plt.ylabel('Visits (Normalized)')\n",
    "plt.show()"
   ]
  },
  {
   "cell_type": "markdown",
   "metadata": {},
   "source": [
    "Caves.org had a significant increase in traffic Jul-Sep.\n",
    "Interestingly, caves.org/info decreased signficantly during this same time.\n",
    "\n",
    "Flittermouse and SCCG had a significant increase in traffic in Aug-Sep. The other sites don't appear to have significant increases or decreases.\n",
    "\n",
    "The driving factors in the increase of overall traffic from Aug-Sep seems to be:\n",
    "* SLG referred traffic\n",
    "* Flittermouse direct traffic (Aug-Sep)\n",
    "* Caves.org direct traffic (Jul-Sep)\n",
    "\n",
    "Perhaps SLG and Flittermouse had some kind of event during this time. I'd like to think the NSS Convention spurred the increase in traffic on the NSS main site during this timeframe."
   ]
  },
  {
   "cell_type": "code",
   "execution_count": null,
   "metadata": {},
   "outputs": [],
   "source": []
  }
 ],
 "metadata": {
  "kernelspec": {
   "display_name": "Python 3",
   "language": "python",
   "name": "python3"
  },
  "language_info": {
   "codemirror_mode": {
    "name": "ipython",
    "version": 3
   },
   "file_extension": ".py",
   "mimetype": "text/x-python",
   "name": "python",
   "nbconvert_exporter": "python",
   "pygments_lexer": "ipython3",
   "version": "3.7.6"
  }
 },
 "nbformat": 4,
 "nbformat_minor": 4
}
