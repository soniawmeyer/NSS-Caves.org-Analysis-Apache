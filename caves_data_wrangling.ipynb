{
 "cells": [
  {
   "cell_type": "code",
   "execution_count": 1,
   "metadata": {},
   "outputs": [],
   "source": [
    "import pandas as pd\n",
    "from urllib.parse import urlparse"
   ]
  },
  {
   "cell_type": "code",
   "execution_count": 2,
   "metadata": {},
   "outputs": [
    {
     "data": {
      "text/plain": [
       "(19104860, 9)"
      ]
     },
     "execution_count": 2,
     "metadata": {},
     "output_type": "execute_result"
    }
   ],
   "source": [
    "csv_path = '/media/joeymeyer/860-evo-ubuntu/Data/caves_org/caves_real.csv'\n",
    "csv_path_analysis = '/media/joeymeyer/860-evo-ubuntu/Data/caves_org/caves_analysis.csv'\n",
    "df = pd.read_csv(csv_path)\n",
    "df = df.drop(columns=['Unnamed: 0'])\n",
    "df.shape"
   ]
  },
  {
   "cell_type": "code",
   "execution_count": 3,
   "metadata": {},
   "outputs": [
    {
     "data": {
      "text/html": [
       "<div>\n",
       "<style scoped>\n",
       "    .dataframe tbody tr th:only-of-type {\n",
       "        vertical-align: middle;\n",
       "    }\n",
       "\n",
       "    .dataframe tbody tr th {\n",
       "        vertical-align: top;\n",
       "    }\n",
       "\n",
       "    .dataframe thead th {\n",
       "        text-align: right;\n",
       "    }\n",
       "</style>\n",
       "<table border=\"1\" class=\"dataframe\">\n",
       "  <thead>\n",
       "    <tr style=\"text-align: right;\">\n",
       "      <th></th>\n",
       "      <th>domain</th>\n",
       "      <th>port</th>\n",
       "      <th>ip_address</th>\n",
       "      <th>date_time</th>\n",
       "      <th>http_request</th>\n",
       "      <th>response_code</th>\n",
       "      <th>response_bytes</th>\n",
       "      <th>referrer</th>\n",
       "      <th>user_agent</th>\n",
       "    </tr>\n",
       "  </thead>\n",
       "  <tbody>\n",
       "    <tr>\n",
       "      <th>0</th>\n",
       "      <td>caves.org</td>\n",
       "      <td>443</td>\n",
       "      <td>103.230.123.233</td>\n",
       "      <td>02/Feb/2020:06:42:07 -0500</td>\n",
       "      <td>GET /region/rmr/index.php/contact HTTP/1.1</td>\n",
       "      <td>503</td>\n",
       "      <td>8214</td>\n",
       "      <td>https://caves.org/region/rmr/index.php/contact</td>\n",
       "      <td>Mozilla/5.0 (Windows NT 10.0; Win64; x64) Appl...</td>\n",
       "    </tr>\n",
       "    <tr>\n",
       "      <th>1</th>\n",
       "      <td>caves.org</td>\n",
       "      <td>443</td>\n",
       "      <td>100.36.204.30</td>\n",
       "      <td>02/Feb/2020:06:42:08 -0500</td>\n",
       "      <td>GET /images/webads/hodagvideo.jpg HTTP/1.1</td>\n",
       "      <td>200</td>\n",
       "      <td>15240</td>\n",
       "      <td>https://caves.org/</td>\n",
       "      <td>Mozilla/5.0 (Windows NT 10.0; Win64; x64) Appl...</td>\n",
       "    </tr>\n",
       "    <tr>\n",
       "      <th>2</th>\n",
       "      <td>caves.org</td>\n",
       "      <td>443</td>\n",
       "      <td>185.245.40.24</td>\n",
       "      <td>02/Feb/2020:06:42:07 -0500</td>\n",
       "      <td>GET /region/rmr/index.php/contact HTTP/1.1</td>\n",
       "      <td>503</td>\n",
       "      <td>8214</td>\n",
       "      <td>https://caves.org/region/rmr/index.php/contact</td>\n",
       "      <td>Mozilla/5.0 (Windows NT 10.0; Win64; x64) Appl...</td>\n",
       "    </tr>\n",
       "    <tr>\n",
       "      <th>3</th>\n",
       "      <td>caves.org</td>\n",
       "      <td>443</td>\n",
       "      <td>185.245.40.7</td>\n",
       "      <td>02/Feb/2020:06:42:07 -0500</td>\n",
       "      <td>POST /region/rmr/index.php/contact HTTP/1.1</td>\n",
       "      <td>303</td>\n",
       "      <td>6183</td>\n",
       "      <td>https://caves.org/region/rmr/index.php/contact</td>\n",
       "      <td>Mozilla/5.0 (Windows NT 6.3; Win64; x64) Apple...</td>\n",
       "    </tr>\n",
       "    <tr>\n",
       "      <th>4</th>\n",
       "      <td>caves.org</td>\n",
       "      <td>443</td>\n",
       "      <td>198.44.179.32</td>\n",
       "      <td>02/Feb/2020:06:42:07 -0500</td>\n",
       "      <td>POST /region/rmr/index.php/contact HTTP/1.1</td>\n",
       "      <td>303</td>\n",
       "      <td>6183</td>\n",
       "      <td>https://caves.org/region/rmr/index.php/contact</td>\n",
       "      <td>Mozilla/5.0 (Windows NT 6.3; Win64; x64) Apple...</td>\n",
       "    </tr>\n",
       "  </tbody>\n",
       "</table>\n",
       "</div>"
      ],
      "text/plain": [
       "      domain  port       ip_address                   date_time  \\\n",
       "0  caves.org   443  103.230.123.233  02/Feb/2020:06:42:07 -0500   \n",
       "1  caves.org   443    100.36.204.30  02/Feb/2020:06:42:08 -0500   \n",
       "2  caves.org   443    185.245.40.24  02/Feb/2020:06:42:07 -0500   \n",
       "3  caves.org   443     185.245.40.7  02/Feb/2020:06:42:07 -0500   \n",
       "4  caves.org   443    198.44.179.32  02/Feb/2020:06:42:07 -0500   \n",
       "\n",
       "                                  http_request  response_code  response_bytes  \\\n",
       "0   GET /region/rmr/index.php/contact HTTP/1.1            503            8214   \n",
       "1   GET /images/webads/hodagvideo.jpg HTTP/1.1            200           15240   \n",
       "2   GET /region/rmr/index.php/contact HTTP/1.1            503            8214   \n",
       "3  POST /region/rmr/index.php/contact HTTP/1.1            303            6183   \n",
       "4  POST /region/rmr/index.php/contact HTTP/1.1            303            6183   \n",
       "\n",
       "                                         referrer  \\\n",
       "0  https://caves.org/region/rmr/index.php/contact   \n",
       "1                              https://caves.org/   \n",
       "2  https://caves.org/region/rmr/index.php/contact   \n",
       "3  https://caves.org/region/rmr/index.php/contact   \n",
       "4  https://caves.org/region/rmr/index.php/contact   \n",
       "\n",
       "                                          user_agent  \n",
       "0  Mozilla/5.0 (Windows NT 10.0; Win64; x64) Appl...  \n",
       "1  Mozilla/5.0 (Windows NT 10.0; Win64; x64) Appl...  \n",
       "2  Mozilla/5.0 (Windows NT 10.0; Win64; x64) Appl...  \n",
       "3  Mozilla/5.0 (Windows NT 6.3; Win64; x64) Apple...  \n",
       "4  Mozilla/5.0 (Windows NT 6.3; Win64; x64) Apple...  "
      ]
     },
     "execution_count": 3,
     "metadata": {},
     "output_type": "execute_result"
    }
   ],
   "source": [
    "df.head()"
   ]
  },
  {
   "cell_type": "markdown",
   "metadata": {},
   "source": [
    "The cells below split the http_request column into multiple columns, removes the query request from the url, and further filters the data to only look at successful get requests, and removes extraneous information that loads each time a website page is visited."
   ]
  },
  {
   "cell_type": "code",
   "execution_count": 4,
   "metadata": {},
   "outputs": [],
   "source": [
    "request = df.pop('http_request').str.split()\n",
    "df['resource'] = request.str[1]\n",
    "df = df[(request.str[0] == 'GET') & (df.pop('response_code') == 200)]"
   ]
  },
  {
   "cell_type": "code",
   "execution_count": 5,
   "metadata": {},
   "outputs": [],
   "source": [
    "df = df[~df['resource'].str.match(\n",
    "    r'^/media|^/static|^/admin|.*image.*|.*phpmyadmin.*|^/robots.txt$|.*favicon.ico$|.*jpg$|.*png$|.*css$|.*gif$|.*\\.js.*|.*graphics.*')]"
   ]
  },
  {
   "cell_type": "code",
   "execution_count": 6,
   "metadata": {
    "scrolled": true
   },
   "outputs": [
    {
     "data": {
      "text/html": [
       "<div>\n",
       "<style scoped>\n",
       "    .dataframe tbody tr th:only-of-type {\n",
       "        vertical-align: middle;\n",
       "    }\n",
       "\n",
       "    .dataframe tbody tr th {\n",
       "        vertical-align: top;\n",
       "    }\n",
       "\n",
       "    .dataframe thead th {\n",
       "        text-align: right;\n",
       "    }\n",
       "</style>\n",
       "<table border=\"1\" class=\"dataframe\">\n",
       "  <thead>\n",
       "    <tr style=\"text-align: right;\">\n",
       "      <th></th>\n",
       "      <th>domain</th>\n",
       "      <th>port</th>\n",
       "      <th>ip_address</th>\n",
       "      <th>date_time</th>\n",
       "      <th>response_bytes</th>\n",
       "      <th>referrer</th>\n",
       "      <th>user_agent</th>\n",
       "      <th>resource</th>\n",
       "    </tr>\n",
       "  </thead>\n",
       "  <tbody>\n",
       "    <tr>\n",
       "      <th>5</th>\n",
       "      <td>caves.org</td>\n",
       "      <td>443</td>\n",
       "      <td>50.205.244.12</td>\n",
       "      <td>02/Feb/2020:06:42:09 -0500</td>\n",
       "      <td>28282</td>\n",
       "      <td>-</td>\n",
       "      <td>Mozilla/5.0 (compatible; PRTG Network Monitor ...</td>\n",
       "      <td>/</td>\n",
       "    </tr>\n",
       "    <tr>\n",
       "      <th>13</th>\n",
       "      <td>caves.org</td>\n",
       "      <td>443</td>\n",
       "      <td>93.114.234.116</td>\n",
       "      <td>02/Feb/2020:06:42:11 -0500</td>\n",
       "      <td>10882</td>\n",
       "      <td>-</td>\n",
       "      <td>Mozilla/5.0 (X11; Ubuntu; Linux x86_64; rv:62....</td>\n",
       "      <td>/grotto/flittermouse/wp-login.php</td>\n",
       "    </tr>\n",
       "    <tr>\n",
       "      <th>17</th>\n",
       "      <td>caves.org</td>\n",
       "      <td>80</td>\n",
       "      <td>82.131.106.39</td>\n",
       "      <td>02/Feb/2020:06:42:14 -0500</td>\n",
       "      <td>1498</td>\n",
       "      <td>-</td>\n",
       "      <td>Mozilla/5.0 (Macintosh; Intel Mac OS X 10_10_5...</td>\n",
       "      <td>/section/vertical/nh/50/knotrope.html</td>\n",
       "    </tr>\n",
       "    <tr>\n",
       "      <th>28</th>\n",
       "      <td>caves.org</td>\n",
       "      <td>80</td>\n",
       "      <td>82.131.106.39</td>\n",
       "      <td>02/Feb/2020:06:42:16 -0500</td>\n",
       "      <td>1497</td>\n",
       "      <td>-</td>\n",
       "      <td>Mozilla/5.0 (iPhone; CPU iPhone OS 10_0 like M...</td>\n",
       "      <td>/section/vertical/nh/50/knotrope.html</td>\n",
       "    </tr>\n",
       "    <tr>\n",
       "      <th>44</th>\n",
       "      <td>caves.org</td>\n",
       "      <td>80</td>\n",
       "      <td>50.205.244.12</td>\n",
       "      <td>02/Feb/2020:06:42:49 -0500</td>\n",
       "      <td>20495</td>\n",
       "      <td>-</td>\n",
       "      <td>Mozilla/5.0 (compatible; PRTG Network Monitor ...</td>\n",
       "      <td>/</td>\n",
       "    </tr>\n",
       "    <tr>\n",
       "      <th>...</th>\n",
       "      <td>...</td>\n",
       "      <td>...</td>\n",
       "      <td>...</td>\n",
       "      <td>...</td>\n",
       "      <td>...</td>\n",
       "      <td>...</td>\n",
       "      <td>...</td>\n",
       "      <td>...</td>\n",
       "    </tr>\n",
       "    <tr>\n",
       "      <th>19104842</th>\n",
       "      <td>caves.org</td>\n",
       "      <td>443</td>\n",
       "      <td>50.205.244.12</td>\n",
       "      <td>24/Nov/2019:06:43:28 -0500</td>\n",
       "      <td>27913</td>\n",
       "      <td>-</td>\n",
       "      <td>Mozilla/5.0 (compatible; PRTG Network Monitor ...</td>\n",
       "      <td>/</td>\n",
       "    </tr>\n",
       "    <tr>\n",
       "      <th>19104843</th>\n",
       "      <td>caves.org</td>\n",
       "      <td>443</td>\n",
       "      <td>24.254.11.169</td>\n",
       "      <td>24/Nov/2019:06:43:44 -0500</td>\n",
       "      <td>11899</td>\n",
       "      <td>https://www.google.com/</td>\n",
       "      <td>Mozilla/5.0 (iPhone; CPU iPhone OS 12_4_1 like...</td>\n",
       "      <td>/grotto/mongrotto/clover_hollow.htm</td>\n",
       "    </tr>\n",
       "    <tr>\n",
       "      <th>19104852</th>\n",
       "      <td>caves.org</td>\n",
       "      <td>443</td>\n",
       "      <td>24.254.11.169</td>\n",
       "      <td>24/Nov/2019:06:44:23 -0500</td>\n",
       "      <td>43949</td>\n",
       "      <td>https://caves.org/grotto/mongrotto/clover_holl...</td>\n",
       "      <td>Mozilla/5.0 (iPhone; CPU iPhone OS 12_4_1 like...</td>\n",
       "      <td>/grotto/mongrotto/index.html</td>\n",
       "    </tr>\n",
       "    <tr>\n",
       "      <th>19104858</th>\n",
       "      <td>caves.org</td>\n",
       "      <td>80</td>\n",
       "      <td>50.205.244.12</td>\n",
       "      <td>24/Nov/2019:06:44:23 -0500</td>\n",
       "      <td>20242</td>\n",
       "      <td>-</td>\n",
       "      <td>Mozilla/5.0 (compatible; PRTG Network Monitor ...</td>\n",
       "      <td>/</td>\n",
       "    </tr>\n",
       "    <tr>\n",
       "      <th>19104859</th>\n",
       "      <td>caves.org</td>\n",
       "      <td>443</td>\n",
       "      <td>50.205.244.12</td>\n",
       "      <td>24/Nov/2019:06:44:28 -0500</td>\n",
       "      <td>27913</td>\n",
       "      <td>-</td>\n",
       "      <td>Mozilla/5.0 (compatible; PRTG Network Monitor ...</td>\n",
       "      <td>/</td>\n",
       "    </tr>\n",
       "  </tbody>\n",
       "</table>\n",
       "<p>4840500 rows × 8 columns</p>\n",
       "</div>"
      ],
      "text/plain": [
       "             domain  port      ip_address                   date_time  \\\n",
       "5         caves.org   443   50.205.244.12  02/Feb/2020:06:42:09 -0500   \n",
       "13        caves.org   443  93.114.234.116  02/Feb/2020:06:42:11 -0500   \n",
       "17        caves.org    80   82.131.106.39  02/Feb/2020:06:42:14 -0500   \n",
       "28        caves.org    80   82.131.106.39  02/Feb/2020:06:42:16 -0500   \n",
       "44        caves.org    80   50.205.244.12  02/Feb/2020:06:42:49 -0500   \n",
       "...             ...   ...             ...                         ...   \n",
       "19104842  caves.org   443   50.205.244.12  24/Nov/2019:06:43:28 -0500   \n",
       "19104843  caves.org   443   24.254.11.169  24/Nov/2019:06:43:44 -0500   \n",
       "19104852  caves.org   443   24.254.11.169  24/Nov/2019:06:44:23 -0500   \n",
       "19104858  caves.org    80   50.205.244.12  24/Nov/2019:06:44:23 -0500   \n",
       "19104859  caves.org   443   50.205.244.12  24/Nov/2019:06:44:28 -0500   \n",
       "\n",
       "          response_bytes                                           referrer  \\\n",
       "5                  28282                                                  -   \n",
       "13                 10882                                                  -   \n",
       "17                  1498                                                  -   \n",
       "28                  1497                                                  -   \n",
       "44                 20495                                                  -   \n",
       "...                  ...                                                ...   \n",
       "19104842           27913                                                  -   \n",
       "19104843           11899                            https://www.google.com/   \n",
       "19104852           43949  https://caves.org/grotto/mongrotto/clover_holl...   \n",
       "19104858           20242                                                  -   \n",
       "19104859           27913                                                  -   \n",
       "\n",
       "                                                 user_agent  \\\n",
       "5         Mozilla/5.0 (compatible; PRTG Network Monitor ...   \n",
       "13        Mozilla/5.0 (X11; Ubuntu; Linux x86_64; rv:62....   \n",
       "17        Mozilla/5.0 (Macintosh; Intel Mac OS X 10_10_5...   \n",
       "28        Mozilla/5.0 (iPhone; CPU iPhone OS 10_0 like M...   \n",
       "44        Mozilla/5.0 (compatible; PRTG Network Monitor ...   \n",
       "...                                                     ...   \n",
       "19104842  Mozilla/5.0 (compatible; PRTG Network Monitor ...   \n",
       "19104843  Mozilla/5.0 (iPhone; CPU iPhone OS 12_4_1 like...   \n",
       "19104852  Mozilla/5.0 (iPhone; CPU iPhone OS 12_4_1 like...   \n",
       "19104858  Mozilla/5.0 (compatible; PRTG Network Monitor ...   \n",
       "19104859  Mozilla/5.0 (compatible; PRTG Network Monitor ...   \n",
       "\n",
       "                                       resource  \n",
       "5                                             /  \n",
       "13            /grotto/flittermouse/wp-login.php  \n",
       "17        /section/vertical/nh/50/knotrope.html  \n",
       "28        /section/vertical/nh/50/knotrope.html  \n",
       "44                                            /  \n",
       "...                                         ...  \n",
       "19104842                                      /  \n",
       "19104843    /grotto/mongrotto/clover_hollow.htm  \n",
       "19104852           /grotto/mongrotto/index.html  \n",
       "19104858                                      /  \n",
       "19104859                                      /  \n",
       "\n",
       "[4840500 rows x 8 columns]"
      ]
     },
     "execution_count": 6,
     "metadata": {},
     "output_type": "execute_result"
    }
   ],
   "source": [
    "df['resource'] = df['resource'].apply(lambda x: urlparse(x).path)\n",
    "df"
   ]
  },
  {
   "cell_type": "code",
   "execution_count": 7,
   "metadata": {},
   "outputs": [
    {
     "data": {
      "text/plain": [
       "50.205.244.12     0.207657\n",
       "73.20.126.64      0.004231\n",
       "67.163.77.242     0.003480\n",
       "34.240.174.214    0.003290\n",
       "34.251.10.88      0.002830\n",
       "Name: ip_address, dtype: float64"
      ]
     },
     "execution_count": 7,
     "metadata": {},
     "output_type": "execute_result"
    }
   ],
   "source": [
    "df['ip_address'].value_counts()[:5].divide(df.ip_address.count())"
   ]
  },
  {
   "cell_type": "code",
   "execution_count": 8,
   "metadata": {},
   "outputs": [
    {
     "data": {
      "text/plain": [
       "(3835335, 8)"
      ]
     },
     "execution_count": 8,
     "metadata": {},
     "output_type": "execute_result"
    }
   ],
   "source": [
    "df = df[df['ip_address'] != \"50.205.244.12\"]\n",
    "df.shape"
   ]
  },
  {
   "cell_type": "markdown",
   "metadata": {},
   "source": [
    "The IP address above accounts for 20% of website traffic. This is suspiciously high and is likely a crawler. With that removed, the dataframe is now ready for analysis."
   ]
  },
  {
   "cell_type": "code",
   "execution_count": 9,
   "metadata": {},
   "outputs": [],
   "source": [
    "df.to_csv(csv_path_analysis)"
   ]
  },
  {
   "cell_type": "code",
   "execution_count": null,
   "metadata": {},
   "outputs": [],
   "source": []
  }
 ],
 "metadata": {
  "kernelspec": {
   "display_name": "Python 3",
   "language": "python",
   "name": "python3"
  },
  "language_info": {
   "codemirror_mode": {
    "name": "ipython",
    "version": 3
   },
   "file_extension": ".py",
   "mimetype": "text/x-python",
   "name": "python",
   "nbconvert_exporter": "python",
   "pygments_lexer": "ipython3",
   "version": "3.7.6"
  }
 },
 "nbformat": 4,
 "nbformat_minor": 4
}
